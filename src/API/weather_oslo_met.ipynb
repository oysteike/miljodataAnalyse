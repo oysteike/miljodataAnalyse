{
 "cells": [
  {
   "cell_type": "code",
   "execution_count": 6,
   "metadata": {},
   "outputs": [
    {
     "name": "stdout",
     "output_type": "stream",
     "text": [
      "Data retrieved from frost.met.no!\n"
     ]
    }
   ],
   "source": [
    "import requests\n",
    "import pandas as pd\n",
    "\n",
    "# Definerer klient-id, personlig for Georg Rommetveit\n",
    "client_id = \"5b9e3b06-3d3d-4049-9b86-b52c0e8cfb81\"\n",
    "\n",
    "# Definerer endepunkt og parametre for forespørsel\n",
    "endpoint = 'https://frost.met.no/observations/v0.jsonld'\n",
    "parameters = {\n",
    "    'sources': 'SN18700,SN90450',\n",
    "    'elements': 'sum(precipitation_amount P1D), sum(duration_of_precipitation P1D), sum(duration_of_sunshine P1D), sea_water_speed, mean(air_temerature P1D), mean(soil_temperature P1D)', # Nedbør, sol, vannhastighet og temperatur  \n",
    "    'referencetime': '2015-01-01/2025-01-01',\n",
    "}\n",
    "# Opretter en forespørsel til frost.met.no\n",
    "r = requests.get(endpoint, parameters, auth=(client_id,''))\n",
    "\n",
    "# Henter json data\n",
    "json = r.json()\n",
    "\n",
    "# Bekrefter om data er hentet\n",
    "if r.status_code == 200:\n",
    "    data = json['data']\n",
    "    print('Data retrieved from frost.met.no!')\n",
    "else:\n",
    "    print('Error! Returned status code %s' % r.status_code)\n",
    "    print('Message: %s' % json['error']['message'])\n",
    "    print('Reason: %s' % json['error']['reason'])\n",
    "\n"
   ]
  },
  {
   "cell_type": "code",
   "execution_count": 7,
   "metadata": {},
   "outputs": [
    {
     "name": "stdout",
     "output_type": "stream",
     "text": [
      "Data lagret som CSV i /Users/georgrommetveit/Documents/anvendtprog/miljodataAnalyse/src/API/../../data/met_data.csv\n"
     ]
    },
    {
     "name": "stderr",
     "output_type": "stream",
     "text": [
      "/var/folders/z7/44tqr8zx7vd2w_1l30pcncwr0000gn/T/ipykernel_43004/918675783.py:22: FutureWarning: Setting an item of incompatible dtype is deprecated and will raise an error in a future version of pandas. Value 'N/A' has dtype incompatible with float64, please explicitly cast to a compatible dtype first.\n",
      "  df.fillna(\"N/A\", inplace=True)\n"
     ]
    }
   ],
   "source": [
    "import os\n",
    "import pandas as pd\n",
    "\n",
    "output_filename = \"met_data.csv\"\n",
    "\n",
    "# Konverter JSON-data til en pandas DataFrame\n",
    "try:\n",
    "    data_expanded = []\n",
    "    for entry in data:\n",
    "        source_id = entry.get(\"sourceId\", \"N/A\")  # Henter kilde-ID\n",
    "        ref_time = entry.get(\"referenceTime\", \"N/A\")  # Henter tid\n",
    "        \n",
    "        for obs in entry.get(\"observations\", []):\n",
    "            obs[\"sourceId\"] = source_id  # Legger til sourceId\n",
    "            obs[\"referenceTime\"] = ref_time  # Legger til tidsstempel\n",
    "            data_expanded.append(obs)\n",
    "    df = pd.json_normalize(data_expanded)\n",
    "except Exception as e:\n",
    "    print(f\"Feil ved konvertering av JSON til DataFrame: {e}\")\n",
    "\n",
    "# Håndter manglende data ved å fylle med \"N/A\"\n",
    "df.fillna(\"N/A\", inplace=True)\n",
    "\n",
    "\n",
    "# Lagre DataFrame som CSV\n",
    "output_path = os.path.join(os.getcwd(), \"..\", \"..\", \"data\", output_filename)\n",
    "try:\n",
    "    df.to_csv(output_path, index=False, encoding=\"utf-8\", header=False)\n",
    "    print(f\"Data lagret som CSV i {output_path}\")\n",
    "except Exception as e:\n",
    "    print(f\"Feil ved lagring av CSV-fil: {e}\") # Hever feil dersom lagring feiler\n"
   ]
  },
  {
   "cell_type": "code",
   "execution_count": null,
   "metadata": {},
   "outputs": [],
   "source": []
  }
 ],
 "metadata": {
  "kernelspec": {
   "display_name": "venv",
   "language": "python",
   "name": "python3"
  },
  "language_info": {
   "codemirror_mode": {
    "name": "ipython",
    "version": 3
   },
   "file_extension": ".py",
   "mimetype": "text/x-python",
   "name": "python",
   "nbconvert_exporter": "python",
   "pygments_lexer": "ipython3",
   "version": "3.9.6"
  }
 },
 "nbformat": 4,
 "nbformat_minor": 2
}
