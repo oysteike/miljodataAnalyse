{
 "cells": [
  {
   "cell_type": "code",
   "execution_count": 1,
   "metadata": {},
   "outputs": [],
   "source": [
    "import pandas as pd\n",
    "\n",
    "def csv_reader(filename, elements):\n",
    "    \"\"\"\n",
    "    Fetches data from met_data.csv\n",
    "    filename: Place of file\n",
    "    elements: List of wanted elements\n",
    "    return: Dict with filtered data\n",
    "    \"\"\"\n",
    "    df = pd.read_csv(filename, header=None, names=['station', 'timestamp', 'measurements'])\n",
    "    \n",
    "    records = []\n",
    "    \n",
    "    for _, row in df.iterrows():\n",
    "        timestamp = row['timestamp']\n",
    "        try:\n",
    "            measurements = eval(row['measurements']) \n",
    "        except Exception as e:\n",
    "            print(f\"Feil ved eval() for rad {row}: {e}\")\n",
    "            continue\n",
    "        \n",
    "        for measurement in measurements:\n",
    "            element_id = measurement['elementId']\n",
    "            if element_id in elements:\n",
    "                records.append({\n",
    "                    'timestamp': timestamp,\n",
    "                    'element': element_id,\n",
    "                    'value': measurement['value'],\n",
    "                    'unit': measurement['unit']\n",
    "                })\n",
    "    \n",
    "    result_df = pd.DataFrame(records)\n",
    "    \n",
    "    if result_df.empty:\n",
    "        return {}\n",
    "    \n",
    "    result = {}\n",
    "    for element in elements:\n",
    "        filtered_df = result_df[result_df['element'] == element]\n",
    "        result[element] = {\n",
    "            row['timestamp']: {'value': row['value'], 'unit': row['unit']}\n",
    "            for _, row in filtered_df.iterrows()\n",
    "        }\n",
    "    \n",
    "    return result\n",
    "\n"
   ]
  },
  {
   "cell_type": "code",
   "execution_count": null,
   "metadata": {},
   "outputs": [],
   "source": []
  }
 ],
 "metadata": {
  "kernelspec": {
   "display_name": "Python 3",
   "language": "python",
   "name": "python3"
  },
  "language_info": {
   "codemirror_mode": {
    "name": "ipython",
    "version": 3
   },
   "file_extension": ".py",
   "mimetype": "text/x-python",
   "name": "python",
   "nbconvert_exporter": "python",
   "pygments_lexer": "ipython3",
   "version": "3.13.1"
  }
 },
 "nbformat": 4,
 "nbformat_minor": 2
}
