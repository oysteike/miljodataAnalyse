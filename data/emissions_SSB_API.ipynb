{
 "cells": [
  {
   "cell_type": "code",
   "execution_count": null,
   "metadata": {},
   "outputs": [],
   "source": [
    "import requests\n",
    "import json\n",
    "from collections import defaultdict\n",
    "\n",
    "# Definer API-endepunkt\n",
    "url = \"https://data.ssb.no/api/v0/no/table/13931/\"\n",
    "\n",
    "# Definer spørring\n",
    "payload = {\n",
    "    \"query\": [\n",
    "        {\"code\": \"UtslpTilLuft\", \"selection\": {\"filter\": \"vs:UtslpKildeA01\", \"values\": []}},\n",
    "        {\"code\": \"UtslpEnergivare\", \"selection\": {\"filter\": \"item\", \"values\": [\"VT0\"]}},\n",
    "        {\"code\": \"UtslpKomp\", \"selection\": {\"filter\": \"item\", \"values\": [\"A10\", \"K11\", \"K12\"]}},\n",
    "        {\"code\": \"ContentsCode\", \"selection\": {\"filter\": \"item\", \"values\": [\"UtslippCO2ekvival\",\"Utslipp\"]}},\n",
    "        {\"code\": \"Tid\", \"selection\": {\"filter\": \"item\", \"values\": [str(year) for year in range(1990, 2024) if year != 2013]}}\n",
    "    ],\n",
    "    \"response\": {\"format\": \"json\"}\n",
    "}\n",
    "\n",
    "# Send forespørselen til API\n",
    "response = requests.post(url, json=payload)\n",
    "data = response.json()\n"
   ]
  },
  {
   "cell_type": "code",
   "execution_count": null,
   "metadata": {},
   "outputs": [],
   "source": []
  }
 ],
 "metadata": {
  "kernelspec": {
   "display_name": "venv",
   "language": "python",
   "name": "python3"
  },
  "language_info": {
   "codemirror_mode": {
    "name": "ipython",
    "version": 3
   },
   "file_extension": ".py",
   "mimetype": "text/x-python",
   "name": "python",
   "nbconvert_exporter": "python",
   "pygments_lexer": "ipython3",
   "version": "3.9.6"
  }
 },
 "nbformat": 4,
 "nbformat_minor": 2
}
